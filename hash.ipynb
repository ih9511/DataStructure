{
 "cells": [
  {
   "cell_type": "markdown",
   "metadata": {},
   "source": [
    "### 파이썬에서 해시(Hash)는 Dictionary를 통해 구현되어 있음"
   ]
  },
  {
   "cell_type": "markdown",
   "metadata": {},
   "source": [
    "### 해시를 언제 사용하면 좋을까?\n",
    "1. 리스트를 쓸 수 없을 때\n",
    "2. 빠른 접근 / 탐색이 필요할 때\n",
    "3. 집계가 필요할 때"
   ]
  },
  {
   "cell_type": "markdown",
   "metadata": {},
   "source": [
    "# Dictionary 사용법"
   ]
  },
  {
   "cell_type": "markdown",
   "metadata": {},
   "source": [
    "1. Init"
   ]
  },
  {
   "cell_type": "code",
   "execution_count": 1,
   "metadata": {},
   "outputs": [],
   "source": [
    "# 빈 딕셔너리 생성\n",
    "dict1 = {}\n",
    "dict2 = dict()"
   ]
  },
  {
   "cell_type": "code",
   "execution_count": 2,
   "metadata": {},
   "outputs": [],
   "source": [
    "# 특정 key-value 쌍을 가진 dictionary 선언\n",
    "\n",
    "Dog = {\n",
    "    'name': '동동이',\n",
    "    'weight': 4,\n",
    "    'height': 100,\n",
    "}"
   ]
  },
  {
   "cell_type": "code",
   "execution_count": 3,
   "metadata": {},
   "outputs": [
    {
     "name": "stdout",
     "output_type": "stream",
     "text": [
      "{'name': '동동이', 'weight': 4, 'height': 100}\n"
     ]
    }
   ],
   "source": [
    "print(Dog)"
   ]
  },
  {
   "cell_type": "code",
   "execution_count": 4,
   "metadata": {},
   "outputs": [],
   "source": [
    "# dictionary를 value로 가지는 dictionary 선언\n",
    "\n",
    "Animals = {\n",
    "    'Dog': {\n",
    "        'name': '동동이',\n",
    "        'age': '5'\n",
    "    },\n",
    "\n",
    "    'Cat': {\n",
    "        'name': '야옹이',\n",
    "        'weight': 3\n",
    "    }\n",
    "}"
   ]
  },
  {
   "cell_type": "code",
   "execution_count": 5,
   "metadata": {},
   "outputs": [
    {
     "name": "stdout",
     "output_type": "stream",
     "text": [
      "{'Dog': {'name': '동동이', 'age': '5'}, 'Cat': {'name': '야옹이', 'weight': 3}}\n"
     ]
    }
   ],
   "source": [
    "print(Animals)"
   ]
  },
  {
   "cell_type": "code",
   "execution_count": 9,
   "metadata": {},
   "outputs": [
    {
     "data": {
      "text/plain": [
       "{'name': '야옹이', 'weight': 3}"
      ]
     },
     "execution_count": 9,
     "metadata": {},
     "output_type": "execute_result"
    }
   ],
   "source": [
    "Animals['Cat']"
   ]
  },
  {
   "cell_type": "markdown",
   "metadata": {},
   "source": [
    "2. Get\n",
    "- Dictionary에서 value 가져오기"
   ]
  },
  {
   "cell_type": "code",
   "execution_count": 10,
   "metadata": {},
   "outputs": [
    {
     "data": {
      "text/plain": [
       "180"
      ]
     },
     "execution_count": 10,
     "metadata": {},
     "output_type": "execute_result"
    }
   ],
   "source": [
    "# [] 기호를 사용해 원소 가져오기\n",
    "\n",
    "dict = {'하이': 300, '헬로': 180, 3: 5}\n",
    "dict['헬로']"
   ]
  },
  {
   "cell_type": "code",
   "execution_count": 12,
   "metadata": {},
   "outputs": [
    {
     "data": {
      "text/plain": [
       "0"
      ]
     },
     "execution_count": 12,
     "metadata": {},
     "output_type": "execute_result"
    }
   ],
   "source": [
    "# get 메소드를 이용해 원소 가져오기 1\n",
    "# dictionary에 해당 key가 없을 때 Key Error를 내는 대신, 특정한 값을 가져오도록 함\n",
    "# get(key, x): dictionary에 key가 없는 경우, x를 리턴\n",
    "\n",
    "dict.get('동동', 0)"
   ]
  },
  {
   "cell_type": "code",
   "execution_count": 13,
   "metadata": {},
   "outputs": [
    {
     "data": {
      "text/plain": [
       "180"
      ]
     },
     "execution_count": 13,
     "metadata": {},
     "output_type": "execute_result"
    }
   ],
   "source": [
    "# get 메소드를 이용해 원소 가져오기 2\n",
    "# dictionary에 해당 key가 있을 경우 대응하는 value를 가져옴\n",
    "\n",
    "dict.get('헬로', 0)"
   ]
  },
  {
   "cell_type": "markdown",
   "metadata": {},
   "source": [
    "3. Set\n",
    "- Dictionary에 값을 집어넣거나, 값을 업데이트 할 때 []를 사용함."
   ]
  },
  {
   "cell_type": "code",
   "execution_count": 14,
   "metadata": {},
   "outputs": [
    {
     "data": {
      "text/plain": [
       "{'김철수': 300, 'Anna': 180, '홍길동': 100}"
      ]
     },
     "execution_count": 14,
     "metadata": {},
     "output_type": "execute_result"
    }
   ],
   "source": [
    "# 값 집어넣기\n",
    "\n",
    "dict = {'김철수': 300, 'Anna': 180}\n",
    "dict['홍길동'] = 100\n",
    "dict"
   ]
  },
  {
   "cell_type": "code",
   "execution_count": 15,
   "metadata": {},
   "outputs": [
    {
     "data": {
      "text/plain": [
       "{'김철수': 500, 'Anna': 180, '홍길동': 100}"
      ]
     },
     "execution_count": 15,
     "metadata": {},
     "output_type": "execute_result"
    }
   ],
   "source": [
    "# 값 수정하기 1\n",
    "\n",
    "dict['김철수'] = 500\n",
    "dict"
   ]
  },
  {
   "cell_type": "code",
   "execution_count": 16,
   "metadata": {},
   "outputs": [
    {
     "data": {
      "text/plain": [
       "{'김철수': 1000, 'Anna': 180, '홍길동': 100}"
      ]
     },
     "execution_count": 16,
     "metadata": {},
     "output_type": "execute_result"
    }
   ],
   "source": [
    "# 값 수정하기 2\n",
    "\n",
    "dict['김철수'] += 500\n",
    "dict"
   ]
  },
  {
   "cell_type": "markdown",
   "metadata": {},
   "source": [
    "4. Delete\n",
    "- Dictionary에서 특정 key 값을 지울 때에 2가지 방법 가능\n",
    "    1. del dict_obj[key]\n",
    "    - del은 키워드로써, 만약 dictionary에 key가 없다면 Key Error 발생\n",
    "    2. pop(key[, default])\n",
    "    - pop은 메소드로써, pop 메소드는 key 값에 해당하는 value를 리턴함. key가 없다면 두 번째 파라미터인 default를 리턴함.\n",
    "    - 만약, default를 설정하지 않았을 시에는 Key Error 발생"
   ]
  },
  {
   "cell_type": "code",
   "execution_count": 17,
   "metadata": {},
   "outputs": [
    {
     "data": {
      "text/plain": [
       "{'Anna': 180}"
      ]
     },
     "execution_count": 17,
     "metadata": {},
     "output_type": "execute_result"
    }
   ],
   "source": [
    "# del 이용하기 - key가 있는 경우\n",
    "dict = {'김철수': 300, 'Anna': 180}\n",
    "del dict['김철수']\n",
    "\n",
    "dict"
   ]
  },
  {
   "cell_type": "code",
   "execution_count": 18,
   "metadata": {},
   "outputs": [
    {
     "ename": "KeyError",
     "evalue": "'홍길동'",
     "output_type": "error",
     "traceback": [
      "\u001b[1;31m---------------------------------------------------------------------------\u001b[0m",
      "\u001b[1;31mKeyError\u001b[0m                                  Traceback (most recent call last)",
      "Input \u001b[1;32mIn [18]\u001b[0m, in \u001b[0;36m<cell line: 4>\u001b[1;34m()\u001b[0m\n\u001b[0;32m      1\u001b[0m \u001b[38;5;66;03m# del 이용하기 - 키가 없는 경우 raise KeyError\u001b[39;00m\n\u001b[0;32m      3\u001b[0m my_dict \u001b[38;5;241m=\u001b[39m {\u001b[38;5;124m'\u001b[39m\u001b[38;5;124m김철수\u001b[39m\u001b[38;5;124m'\u001b[39m: \u001b[38;5;241m300\u001b[39m, \u001b[38;5;124m'\u001b[39m\u001b[38;5;124mAnna\u001b[39m\u001b[38;5;124m'\u001b[39m: \u001b[38;5;241m180\u001b[39m}\n\u001b[1;32m----> 4\u001b[0m \u001b[38;5;28;01mdel\u001b[39;00m my_dict[\u001b[38;5;124m'\u001b[39m\u001b[38;5;124m홍길동\u001b[39m\u001b[38;5;124m'\u001b[39m]\n",
      "\u001b[1;31mKeyError\u001b[0m: '홍길동'"
     ]
    }
   ],
   "source": [
    "# del 이용하기 - key가 없는 경우 raise KeyError\n",
    "\n",
    "my_dict = {'김철수': 300, 'Anna': 180}\n",
    "del my_dict['홍길동']"
   ]
  },
  {
   "cell_type": "code",
   "execution_count": 19,
   "metadata": {},
   "outputs": [
    {
     "data": {
      "text/plain": [
       "300"
      ]
     },
     "execution_count": 19,
     "metadata": {},
     "output_type": "execute_result"
    }
   ],
   "source": [
    "# pop 이용하기 - key가 있는 경우 대응하는 value 리턴\n",
    "my_dict = {'김철수': 300, 'Anna': 180}\n",
    "my_dict.pop('김철수', 180)"
   ]
  },
  {
   "cell_type": "code",
   "execution_count": 20,
   "metadata": {},
   "outputs": [
    {
     "data": {
      "text/plain": [
       "180"
      ]
     },
     "execution_count": 20,
     "metadata": {},
     "output_type": "execute_result"
    }
   ],
   "source": [
    "# pop 이용하기 - key가 없는 경우 대응하는 default 리턴\n",
    "my_dict = {'김철수': 300, 'Anna': 180}\n",
    "my_dict.pop('홍길동', 180)"
   ]
  },
  {
   "cell_type": "markdown",
   "metadata": {},
   "source": [
    "5. Iterate\n",
    "- Dictionary를 for문을 이용하여 조회할 때 2가지 방법 존재.\n",
    "    1. key로만 순회하기\n",
    "    2. key, value 동시 순회하기 (items() 사용)"
   ]
  },
  {
   "cell_type": "code",
   "execution_count": 21,
   "metadata": {},
   "outputs": [
    {
     "name": "stdout",
     "output_type": "stream",
     "text": [
      "김철수\n",
      "Anna\n"
     ]
    }
   ],
   "source": [
    "# key로만 순회\n",
    "dict = {'김철수': 300, 'Anna': 180}\n",
    "for key in dict:\n",
    "    print(key)"
   ]
  },
  {
   "cell_type": "code",
   "execution_count": 22,
   "metadata": {},
   "outputs": [
    {
     "name": "stdout",
     "output_type": "stream",
     "text": [
      "김철수 300\n",
      "Anna 180\n"
     ]
    }
   ],
   "source": [
    "# key-value 동시 순회\n",
    "for key, value in dict.items():\n",
    "    print(key, value)"
   ]
  },
  {
   "cell_type": "markdown",
   "metadata": {},
   "source": [
    "6. 그 밖의 dictionary 팁"
   ]
  },
  {
   "cell_type": "markdown",
   "metadata": {},
   "source": [
    "- 특정 key가 dictionary에 있는지 없는지 조회할 때 (in 사용하기)"
   ]
  },
  {
   "cell_type": "code",
   "execution_count": 23,
   "metadata": {},
   "outputs": [
    {
     "name": "stdout",
     "output_type": "stream",
     "text": [
      "True\n",
      "False\n"
     ]
    }
   ],
   "source": [
    "dict = {'김철수': 300, 'Anna': 180}\n",
    "print('김철수' in dict)\n",
    "print('김철수' not in dict)"
   ]
  },
  {
   "cell_type": "markdown",
   "metadata": {},
   "source": [
    "- key 또는 value만 뽑아내는 방법"
   ]
  },
  {
   "cell_type": "code",
   "execution_count": 24,
   "metadata": {},
   "outputs": [
    {
     "data": {
      "text/plain": [
       "dict_keys(['김철수', 'Anna'])"
      ]
     },
     "execution_count": 24,
     "metadata": {},
     "output_type": "execute_result"
    }
   ],
   "source": [
    "# key 만: keys()\n",
    "\n",
    "my_dict = {'김철수': 300, 'Anna': 180}\n",
    "my_dict.keys()"
   ]
  },
  {
   "cell_type": "code",
   "execution_count": 25,
   "metadata": {},
   "outputs": [
    {
     "data": {
      "text/plain": [
       "dict_values([300, 180])"
      ]
     },
     "execution_count": 25,
     "metadata": {},
     "output_type": "execute_result"
    }
   ],
   "source": [
    "# value 만: values()\n",
    "\n",
    "my_dict = {'김철수': 300, 'Anna': 180}\n",
    "my_dict.values()"
   ]
  },
  {
   "cell_type": "code",
   "execution_count": 26,
   "metadata": {},
   "outputs": [
    {
     "data": {
      "text/plain": [
       "dict_items([('김철수', 300), ('Anna', 180)])"
      ]
     },
     "execution_count": 26,
     "metadata": {},
     "output_type": "execute_result"
    }
   ],
   "source": [
    "# key, value 쌍을 extract: items()\n",
    "\n",
    "my_dict = {'김철수': 300, 'Anna': 180}\n",
    "my_dict.items()"
   ]
  },
  {
   "cell_type": "code",
   "execution_count": null,
   "metadata": {},
   "outputs": [],
   "source": []
  }
 ],
 "metadata": {
  "kernelspec": {
   "display_name": "SentiCap",
   "language": "python",
   "name": "python3"
  },
  "language_info": {
   "codemirror_mode": {
    "name": "ipython",
    "version": 3
   },
   "file_extension": ".py",
   "mimetype": "text/x-python",
   "name": "python",
   "nbconvert_exporter": "python",
   "pygments_lexer": "ipython3",
   "version": "3.8.15"
  }
 },
 "nbformat": 4,
 "nbformat_minor": 2
}
